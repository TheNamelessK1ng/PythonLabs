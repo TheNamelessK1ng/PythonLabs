{
 "cells": [
  {
   "cell_type": "markdown",
   "id": "181772b0-fa06-4878-89ce-98e22dea87b7",
   "metadata": {},
   "source": [
    "# Лабораторна робота 2"
   ]
  },
  {
   "cell_type": "markdown",
   "id": "aefba0e0-855f-458a-b770-e5da61ee3b46",
   "metadata": {},
   "source": [
    "## Завдання 3\n",
    "### Отримайте імена стовпців набору даних"
   ]
  },
  {
   "cell_type": "code",
   "execution_count": 4,
   "id": "40163913-2d98-4574-a17e-2de1abc6147f",
   "metadata": {},
   "outputs": [
    {
     "name": "stdout",
     "output_type": "stream",
     "text": [
      "Index(['Id', 'Name', 'Year', 'Gender', 'Count'], dtype='object')\n"
     ]
    }
   ],
   "source": [
    "import pandas as pd\n",
    "import matplotlib.pyplot as mpl\n",
    "DataFrame = pd.read_csv(\"NationalNames.csv\")\n",
    "DataFrameIndex = DataFrame.columns\n",
    "print(DataFrameIndex)"
   ]
  },
  {
   "cell_type": "markdown",
   "id": "319d237f-f75a-4336-a498-a345d068cc07",
   "metadata": {},
   "source": [
    "## Завдання 4\n",
    "### Отримайте загальну інформацію про дані у наборі даних"
   ]
  },
  {
   "cell_type": "code",
   "execution_count": 6,
   "id": "829c5408-838d-4aeb-834e-7a954948fa6e",
   "metadata": {},
   "outputs": [
    {
     "name": "stdout",
     "output_type": "stream",
     "text": [
      "                 Id          Year         Count\n",
      "count  1.825433e+06  1.825433e+06  1.825433e+06\n",
      "mean   9.127170e+05  1.972620e+03  1.846879e+02\n",
      "std    5.269573e+05  3.352891e+01  1.566711e+03\n",
      "min    1.000000e+00  1.880000e+03  5.000000e+00\n",
      "25%    4.563590e+05  1.949000e+03  7.000000e+00\n",
      "50%    9.127170e+05  1.982000e+03  1.200000e+01\n",
      "75%    1.369075e+06  2.001000e+03  3.200000e+01\n",
      "max    1.825433e+06  2.014000e+03  9.968000e+04\n"
     ]
    }
   ],
   "source": [
    "DataFrameDescribe = DataFrame.describe()\n",
    "print(DataFrameDescribe)"
   ]
  },
  {
   "cell_type": "markdown",
   "id": "c54ddd4d-8f4f-4a43-87f2-52a2918f38c6",
   "metadata": {},
   "source": [
    "## Завдання 5\n",
    "### Знайдіть кількість унікальних імен у наборі даних"
   ]
  },
  {
   "cell_type": "code",
   "execution_count": 8,
   "id": "f4b65fe5-6630-418e-a344-0e1c69e60576",
   "metadata": {},
   "outputs": [
    {
     "name": "stdout",
     "output_type": "stream",
     "text": [
      "93889\n"
     ]
    }
   ],
   "source": [
    "DataFrameUniqueYear = DataFrame['Name'].nunique()\n",
    "print(DataFrameUniqueYear)"
   ]
  },
  {
   "cell_type": "markdown",
   "id": "a2a0a68f-afdd-4ddc-9835-3bcfb9659bda",
   "metadata": {},
   "source": [
    "## Завдання 8\n",
    "### Знайдіть найпопулярніше ім’я за результатами одного року (ім’я, для якого Count максимальне)"
   ]
  },
  {
   "cell_type": "code",
   "execution_count": 10,
   "id": "7ba0806f-f638-449c-abbe-383dc92783ea",
   "metadata": {},
   "outputs": [
    {
     "name": "stdout",
     "output_type": "stream",
     "text": [
      "Linda\n"
     ]
    }
   ],
   "source": [
    "DataFrameUniqueYear = DataFrame[DataFrame['Year'] == 1947]\n",
    "DataFrameUniqueName = DataFrameUniqueYear['Name'].value_counts()\n",
    "DataFrameUniquePopularName = DataFrameUniqueName.idxmax()\n",
    "print(DataFrameUniquePopularName)"
   ]
  },
  {
   "cell_type": "markdown",
   "id": "d38af770-f80a-461a-8aac-6ee17ff55a22",
   "metadata": {},
   "source": [
    "## Завдання 9\n",
    "### Підрахуйте кількість записів, для яких Count  - мінімальне у наборі"
   ]
  },
  {
   "cell_type": "code",
   "execution_count": 12,
   "id": "b2bdb280-3b41-440d-ab72-4e2e7a94475b",
   "metadata": {},
   "outputs": [
    {
     "name": "stdout",
     "output_type": "stream",
     "text": [
      "254615\n"
     ]
    }
   ],
   "source": [
    "minCount = DataFrame['Count'].min()\n",
    "minCountRecords = DataFrame[DataFrame['Count'] == minCount].shape[0]\n",
    "print(minCountRecords)"
   ]
  },
  {
   "cell_type": "markdown",
   "id": "58d37f38-bf5b-4cba-a27e-bf65eb8c2f3b",
   "metadata": {},
   "source": [
    "## Завдання 11\n",
    "### Знайдіть рік із найбільшою кількістю унікальних імен"
   ]
  },
  {
   "cell_type": "code",
   "execution_count": 14,
   "id": "09bf5044-09e4-424d-9000-c824395bbdfc",
   "metadata": {},
   "outputs": [
    {
     "name": "stdout",
     "output_type": "stream",
     "text": [
      "Year 2008 Name 32488\n"
     ]
    }
   ],
   "source": [
    "uniqueNameCount = DataFrame.groupby('Year')['Name'].nunique()\n",
    "yearWithMostUniqueNames = uniqueNameCount.idxmax()\n",
    "maxUniqueNameCount = uniqueNameCount.max()\n",
    "print(F\"Year {yearWithMostUniqueNames} Name {maxUniqueNameCount}\")"
   ]
  },
  {
   "cell_type": "markdown",
   "id": "7d210545-e620-4705-a655-6c5f6a609cca",
   "metadata": {},
   "source": [
    "## Завдання 12\n",
    "### Знайдіть найпопулярніше ім’я в році з найбільшою кількістю унікальних імен (тобто у 2008 році)"
   ]
  },
  {
   "cell_type": "code",
   "execution_count": 16,
   "id": "456fcf57-b0bd-4315-8c13-b43c5c2d654e",
   "metadata": {},
   "outputs": [
    {
     "name": "stdout",
     "output_type": "stream",
     "text": [
      "Jacob\n"
     ]
    }
   ],
   "source": [
    "uniqueNameCount = DataFrame.groupby('Year')['Name'].nunique()\n",
    "yearWithMostUniqueNames = uniqueNameCount.idxmax()\n",
    "FilterDataByYear = DataFrame[DataFrame['Year'] == yearWithMostUniqueNames]\n",
    "PopularName = FilterDataByYear.groupby('Name')['Count'].sum()\n",
    "mostPopularName = PopularName.idxmax()\n",
    "print(mostPopularName)"
   ]
  },
  {
   "cell_type": "markdown",
   "id": "b0e114e4-e3fa-4dae-964e-2c49152aeb65",
   "metadata": {},
   "source": [
    "## Завдання 13\n",
    "### Знайдіть рік, коли ім’я “Jacob” було найпопулярнішим серед жіночих імен"
   ]
  },
  {
   "cell_type": "code",
   "execution_count": 18,
   "id": "859c258e-80c2-43c8-a8d5-1335f8f24c74",
   "metadata": {},
   "outputs": [
    {
     "name": "stdout",
     "output_type": "stream",
     "text": [
      "Year, when name 'Jacob' was the most popular among female names: 2004\n"
     ]
    }
   ],
   "source": [
    "jacobFem = DataFrame[(DataFrame['Name'] == 'Jacob') & (DataFrame['Gender'] == 'F')]\n",
    "yearMostPopularJacobFem = jacobFem.loc[jacobFem['Count'].idxmax(), 'Year']\n",
    "print(f\"Year, when name 'Jacob' was the most popular among female names: {yearMostPopularJacobFem}\")"
   ]
  },
  {
   "cell_type": "markdown",
   "id": "bb703446-cf45-4c7c-8b50-25a6e5293cb5",
   "metadata": {},
   "source": [
    "## Завдання 14\n",
    "### Знайти рік із найбільшою кількістю гендерно нейтральних імен (однакові чоловічі та жіночі імена)"
   ]
  },
  {
   "cell_type": "code",
   "execution_count": 20,
   "id": "214724a0-2e73-41ae-9ece-d4dddfbc9608",
   "metadata": {},
   "outputs": [
    {
     "name": "stdout",
     "output_type": "stream",
     "text": [
      "Year with the most gender-neutral names: 2008 (Amount: 9914)\n"
     ]
    }
   ],
   "source": [
    "gender_neutral_names = DataFrame.groupby('Name')['Gender'].unique()\n",
    "gender_neutral_names = gender_neutral_names[gender_neutral_names.apply(lambda x: len(x) == 2)]\n",
    "genderNeutralIDf = DataFrame[DataFrame['Name'].isin(gender_neutral_names.index)]\n",
    "countByYear = genderNeutralIDf['Year'].value_counts()\n",
    "maxYear = countByYear.idxmax()\n",
    "maxCount = countByYear.max()\n",
    "print(f\"Year with the most gender-neutral names: {maxYear} (Amount: {maxCount})\")"
   ]
  },
  {
   "cell_type": "markdown",
   "id": "8f536d8a-d4d2-4b72-8a51-92c6c7b0f2b4",
   "metadata": {},
   "source": [
    "## Завдання 16\n",
    "### Знайдіть рік, коли народилося найбільше дітей"
   ]
  },
  {
   "cell_type": "code",
   "execution_count": 22,
   "id": "9f05f403-36c1-449e-a9ca-3a1557c0966f",
   "metadata": {},
   "outputs": [
    {
     "name": "stdout",
     "output_type": "stream",
     "text": [
      "Year with the highest number of children born: 1957\n"
     ]
    }
   ],
   "source": [
    "totalByYear = DataFrame.groupby('Year')['Count'].sum()\n",
    "maxYear = totalByYear.idxmax()\n",
    "print(f\"Year with the highest number of children born: {maxYear}\")"
   ]
  },
  {
   "cell_type": "markdown",
   "id": "3111ddc5-2af3-4cf3-9314-32b8ed25a88e",
   "metadata": {},
   "source": [
    "## Завдання 17\n",
    "### Знайдіть кількість дівчаток та хлопчиків, які народились кожного року"
   ]
  },
  {
   "cell_type": "code",
   "execution_count": 24,
   "id": "33250ef5-c907-48b4-9402-e223dc98afb0",
   "metadata": {},
   "outputs": [
    {
     "name": "stdout",
     "output_type": "stream",
     "text": [
      "            M        F\n",
      "Year                  \n",
      "1880    90993   110491\n",
      "1881    91954   100745\n",
      "1882   107850   113688\n",
      "1883   112321   104629\n",
      "1884   129022   114445\n",
      "...       ...      ...\n",
      "2010  1772738  1913851\n",
      "2011  1753500  1893230\n",
      "2012  1753922  1889414\n",
      "2013  1745339  1881463\n",
      "2014  1768775  1901376\n",
      "\n",
      "[135 rows x 2 columns]\n"
     ]
    }
   ],
   "source": [
    "gender_count_by_year = DataFrame.groupby(['Year', 'Gender'])['Count'].sum().unstack()\n",
    "gender_count_by_year.columns = ['M', 'F']\n",
    "print(gender_count_by_year)"
   ]
  },
  {
   "cell_type": "markdown",
   "id": "ab05db6b-04cd-4075-a1b3-861c2f629521",
   "metadata": {},
   "source": [
    "## Завдання 18\n",
    "### Підрахуйте кількість років, коли дівчаток народжувалось більше, ніж хлопчиків"
   ]
  },
  {
   "cell_type": "code",
   "execution_count": 26,
   "id": "e104c093-50c0-4251-afc8-b5e23cfdd875",
   "metadata": {},
   "outputs": [
    {
     "name": "stdout",
     "output_type": "stream",
     "text": [
      "54\n"
     ]
    }
   ],
   "source": [
    "genderCountByYear = DataFrame.groupby(['Year', 'Gender'])['Count'].sum().unstack()\n",
    "yearsWithMoreGirls = (genderCountByYear['F'] > genderCountByYear['M']).sum()\n",
    "print(yearsWithMoreGirls)"
   ]
  },
  {
   "cell_type": "markdown",
   "id": "9f2905a4-0c64-4c57-ae7f-d372170285fb",
   "metadata": {},
   "source": [
    "## Завдання 19\n",
    "### Накресліть графік загальної кількості народжень хлопчиків та дівчаток на рік"
   ]
  },
  {
   "cell_type": "code",
   "execution_count": 30,
   "id": "3747d8aa-d3d0-479f-8aa9-fe5c6fac3771",
   "metadata": {
    "scrolled": true
   },
   "outputs": [
    {
     "data": {
      "text/plain": [
       "<matplotlib.legend.Legend at 0x1a0eadee750>"
      ]
     },
     "execution_count": 30,
     "metadata": {},
     "output_type": "execute_result"
    },
    {
     "data": {
      "image/png": "[encoded data removed]",
      "text/plain": [
       "<Figure size 1000x600 with 1 Axes>"
      ]
     },
     "metadata": {},
     "output_type": "display_data"
    }
   ],
   "source": [
    "total_births_by_year = DataFrame.groupby('Year')['Count'].sum()\n",
    "gender_count_by_year = DataFrame.groupby(['Year', 'Gender'])['Count'].sum().unstack()\n",
    "mpl.figure(figsize=(10, 6))\n",
    "mpl.plot(gender_count_by_year.index, gender_count_by_year['M'], linestyle='-', color='b', label='M')\n",
    "mpl.plot(gender_count_by_year.index, gender_count_by_year['F'], linestyle='-', color='r', label='F')\n",
    "mpl.xlabel('Fix', fontsize=14)\n",
    "mpl.ylabel('Number of births', fontsize=14)\n",
    "mpl.title('Number of boys and girls born by year', fontsize=16)\n",
    "mpl.grid(True)\n",
    "mpl.legend()"
   ]
  },
  {
   "cell_type": "markdown",
   "id": "7795583b-cb91-4f07-9bc2-44808ba0b39a",
   "metadata": {},
   "source": [
    "## Завдання 20\n",
    "### Підрахуйте кількість гендерно нейтральних імен (однакових для дівчат та хлопців)"
   ]
  },
  {
   "cell_type": "code",
   "execution_count": 28,
   "id": "aa8a429c-c0af-463f-9b94-fae36c76b723",
   "metadata": {},
   "outputs": [
    {
     "name": "stdout",
     "output_type": "stream",
     "text": [
      "10221\n"
     ]
    }
   ],
   "source": [
    "nameGenderCount = DataFrame.groupby(['Name', 'Gender']).size().unstack(fill_value=0)\n",
    "genderNeutralNames = nameGenderCount[(nameGenderCount['M'] > 0) & (nameGenderCount['F'] > 0)]\n",
    "genderNeutralCount = genderNeutralNames.shape[0]\n",
    "print(genderNeutralCount)"
   ]
  },
  {
   "cell_type": "markdown",
   "id": "7109665a-0816-40c9-a595-8ede3a6566db",
   "metadata": {},
   "source": [
    "## Завдання 22\n",
    "### Підрахуйте скільки років проводилось спостереження"
   ]
  },
  {
   "cell_type": "code",
   "execution_count": 32,
   "id": "d1d13088-f04b-4ed3-96ec-0df37bc7029a",
   "metadata": {},
   "outputs": [
    {
     "name": "stdout",
     "output_type": "stream",
     "text": [
      "135\n"
     ]
    }
   ],
   "source": [
    "SpectatorYears = DataFrame['Year'].max() - DataFrame['Year'].min() + 1\n",
    "print(SpectatorYears)"
   ]
  },
  {
   "cell_type": "markdown",
   "id": "83afb79c-3107-4f67-b37e-79ecbc0a9ad3",
   "metadata": {},
   "source": [
    "## Завдання 23\n",
    "### Знати найпопулярніші гендерно-нейтральні імена (ті, що присутні кожного року)"
   ]
  },
  {
   "cell_type": "code",
   "execution_count": 34,
   "id": "9760cd34-9bfb-4751-b1d2-66eae1c6b139",
   "metadata": {},
   "outputs": [
    {
     "name": "stdout",
     "output_type": "stream",
     "text": [
      "Name\n",
      "William    270\n",
      "Robert     270\n",
      "Ollie      270\n",
      "Marion     270\n",
      "Jesse      270\n",
      "Leslie     270\n",
      "Johnnie    270\n",
      "Tommie     270\n",
      "Joseph     270\n",
      "Jessie     270\n",
      "Francis    270\n",
      "Jean       270\n",
      "Lee        270\n",
      "Sidney     270\n",
      "John       270\n",
      "Name: count, dtype: int64\n"
     ]
    }
   ],
   "source": [
    "names = DataFrame['Name'].tolist()\n",
    "nameCount = DataFrame['Name'].value_counts()\n",
    "print(nameCount.head(15))"
   ]
  },
  {
   "cell_type": "markdown",
   "id": "8aab00ae-9e89-453d-b40e-d93b78eb18f2",
   "metadata": {},
   "source": [
    "## Завдання 24\n",
    "### Знайти найпопулярніше серед непопулярних імен (непопулярне ім’я, яким називали дітей найбільшу кількість разів )"
   ]
  },
  {
   "cell_type": "code",
   "execution_count": 42,
   "id": "ae0e4d9f-b10c-466d-9582-1043b87340bd",
   "metadata": {},
   "outputs": [
    {
     "name": "stdout",
     "output_type": "stream",
     "text": [
      "The most popular name among unpopular names is Adriyana\n",
      "Number of people with this name 160\n"
     ]
    }
   ],
   "source": [
    "nameCount = DataFrame.groupby('Name')['Count'].sum().reset_index()\n",
    "popularity_threshold = 161\n",
    "unpopular_names = nameCount[nameCount['Count'] < popularity_threshold]\n",
    "most_popular_unpopular_name = unpopular_names.loc[unpopular_names['Count'].idxmax()]\n",
    "print(f\"The most popular name among unpopular names is {most_popular_unpopular_name['Name']}\")\n",
    "print(f\"Number of people with this name {most_popular_unpopular_name['Count']}\")"
   ]
  },
  {
   "cell_type": "markdown",
   "id": "8722b526-a529-439f-aa48-059eeba1ca5c",
   "metadata": {},
   "source": [
    "## Завдання 27\n",
    "### Знайти найпопулярніші імена в кожному році"
   ]
  },
  {
   "cell_type": "code",
   "execution_count": 45,
   "id": "88742502-dcc2-4e3a-88cb-3923d33921dd",
   "metadata": {},
   "outputs": [
    {
     "name": "stdout",
     "output_type": "stream",
     "text": [
      "              Id      Name  Year Gender  Count\n",
      "942          943      John  1880      M   9655\n",
      "2938        2939      John  1881      M   8769\n",
      "4963        4964      John  1882      M   9557\n",
      "7116        7117      John  1883      M   8894\n",
      "9318        9319      John  1884      M   9388\n",
      "...          ...       ...   ...    ...    ...\n",
      "1657592  1657593  Isabella  2010      F  22883\n",
      "1691633  1691634    Sophia  2011      F  21816\n",
      "1725502  1725503    Sophia  2012      F  22267\n",
      "1759186  1759187    Sophia  2013      F  21147\n",
      "1792389  1792390      Emma  2014      F  20799\n",
      "\n",
      "[135 rows x 5 columns]\n"
     ]
    }
   ],
   "source": [
    "most_popular_names = DataFrame.loc[DataFrame.groupby('Year')['Count'].idxmax()]\n",
    "print(most_popular_names)"
   ]
  }
 ],
 "metadata": {
  "kernelspec": {
   "display_name": "Python 3 (ipykernel)",
   "language": "python",
   "name": "python3"
  },
  "language_info": {
   "codemirror_mode": {
    "name": "ipython",
    "version": 3
   },
   "file_extension": ".py",
   "mimetype": "text/x-python",
   "name": "python",
   "nbconvert_exporter": "python",
   "pygments_lexer": "ipython3",
   "version": "3.12.4"
  }
 },
 "nbformat": 4,
 "nbformat_minor": 5
}
