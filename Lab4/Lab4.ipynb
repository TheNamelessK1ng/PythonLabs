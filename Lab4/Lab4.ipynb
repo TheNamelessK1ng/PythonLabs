{
 "cells": [
  {
   "cell_type": "code",
   "execution_count": null,
   "id": "8bcf9cb1-64cc-45e3-83e1-a62abab68690",
   "metadata": {},
   "outputs": [],
   "source": [
    "import glob\n",
    "import random\n",
    "import base64\n",
    "import pandas as pd\n",
    "from PIL import Image\n",
    "from io import BytesIO\n",
    "from IPython.display import HTML\n",
    "\n",
    "def get_image_data(folder_path):\n",
    "    \n",
    "    data = []\n",
    "    for file_path in glob.glob(f\"{folder_path}/*\"):\n",
    "        try:\n",
    "            with Image.open(file_path) as img:\n",
    "                file_name = file_path.split(\"/\")[-1]\n",
    "                color_mode = img.mode\n",
    "                img_format = img.format\n",
    "                channels = len(img.getbands())\n",
    "                width, height = img.size\n",
    "                file_size = round(\n",
    "                    (img.fp.tell() / (1024 * 1024)), 2)\n",
    "                full_path = file_path\n",
    "                img.thumbnail((100, 100))\n",
    "                buffer = BytesIO()\n",
    "                img.save(buffer, format=\"PNG\")\n",
    "                img_base64 = base64.b64encode(buffer.getvalue()).decode(\"utf-8\")\n",
    "\n",
    "                data.append({\n",
    "                    \"File Name\": file_name,\n",
    "                    \"Color Model\": color_mode,\n",
    "                    \"Format\": img_format,\n",
    "                    \"Channels\": channels,\n",
    "                    \"File Size (MB)\": file_size,\n",
    "                    \"Width\": width,\n",
    "                    \"Height\": height,\n",
    "                    \"Full Path\": full_path,\n",
    "                    \"Thumbnail\": f'<img src=\"data:image/png;base64,{img_base64}\" width=\"150\"/>'\n",
    "                })\n",
    "        except Exception:\n",
    "            \n",
    "            continue\n",
    "\n",
    "    \n",
    "    df = pd.DataFrame(data)\n",
    "    return df\n",
    "\n",
    "\n",
    "folder = r\"C:\\PythonImagesLab4\"\n",
    "df = get_image_data(folder)\n",
    "\n",
    "HTML(df.to_html(escape=False))"
   ]
  },
  {
   "cell_type": "code",
   "execution_count": null,
   "id": "4aa7e62f-65d7-4b0b-8491-3847192edc06",
   "metadata": {},
   "outputs": [],
   "source": [
    "import os\n",
    "from PIL import Image, ImageEnhance\n",
    "\n",
    "def crop_to_square(image):\n",
    "    width, height = image.size\n",
    "    min_side = min(width, height)\n",
    "    left = (width - min_side) // 2\n",
    "    top = (height - min_side) // 2\n",
    "    right = left + min_side\n",
    "    bottom = top + min_side\n",
    "    return image.crop((left, top, right, bottom))\n",
    "\n",
    "def apply_color_filter(image, color):\n",
    "    overlay = Image.new(\"RGB\", image.size, color)\n",
    "    return Image.blend(image, overlay, alpha=0.3)\n",
    "\n",
    "def to_poster(folder_path, images_per_row, images_per_column):\n",
    "\n",
    "    target_size = (500, 500)\n",
    "\n",
    "    image_files = [os.path.join(folder_path, file) for file in os.listdir(folder_path)\n",
    "                   if file.lower().endswith(('png', 'jpg', 'jpeg', 'bmp', 'gif', 'jfif'))]\n",
    "\n",
    "    if not image_files:\n",
    "        raise ValueError(\"У папці немає зображень.\")\n",
    "\n",
    "    selected_images = random.choices(image_files, k=images_per_row * images_per_column)\n",
    "\n",
    "    filters = ['red', 'green', 'blue', 'yellow', 'magenta', 'cyan']\n",
    "\n",
    "    poster_width = images_per_row * target_size[0]\n",
    "    poster_height = images_per_column * target_size[1]\n",
    "    poster = Image.new('RGB', (poster_width, poster_height))\n",
    "\n",
    "    for i, img_path in enumerate(selected_images):\n",
    "        with Image.open(img_path) as img:\n",
    "            img = crop_to_square(img)\n",
    "            img = img.resize(target_size)\n",
    "            color_filter = random.choice(filters)\n",
    "            img = apply_color_filter(img, color_filter)\n",
    "\n",
    "            x = (i % images_per_row) * target_size[0]\n",
    "            y = (i // images_per_row) * target_size[1]\n",
    "            poster.paste(img, (x, y))\n",
    "\n",
    "    return poster\n",
    "\n",
    "poster_folder = r'C:\\PythonImagesLab4'"
   ]
  },
  {
   "cell_type": "code",
   "execution_count": null,
   "id": "fbc4fcf8-5e0e-4c50-b478-6a74068f90f2",
   "metadata": {},
   "outputs": [],
   "source": [
    "to_poster(poster_folder, 3, 2)"
   ]
  },
  {
   "cell_type": "code",
   "execution_count": null,
   "id": "8b2c50a6-da58-4e28-b449-a9217545ada6",
   "metadata": {},
   "outputs": [],
   "source": [
    "to_poster(poster_folder, 4, 3)"
   ]
  },
  {
   "cell_type": "code",
   "execution_count": null,
   "id": "b5b802c3-1f6d-45b7-ae72-9b4fa62e3c1f",
   "metadata": {},
   "outputs": [],
   "source": [
    "to_poster(poster_folder, 5, 4)"
   ]
  },
  {
   "cell_type": "code",
   "execution_count": null,
   "id": "8b53660d-f300-4f7a-925b-a81b52626e54",
   "metadata": {},
   "outputs": [],
   "source": [
    "to_poster(poster_folder, 6, 5)"
   ]
  }
 ],
 "metadata": {
  "kernelspec": {
   "display_name": "Python 3 (ipykernel)",
   "language": "python",
   "name": "python3"
  },
  "language_info": {
   "codemirror_mode": {
    "name": "ipython",
    "version": 3
   },
   "file_extension": ".py",
   "mimetype": "text/x-python",
   "name": "python",
   "nbconvert_exporter": "python",
   "pygments_lexer": "ipython3",
   "version": "3.12.4"
  }
 },
 "nbformat": 4,
 "nbformat_minor": 5
}
