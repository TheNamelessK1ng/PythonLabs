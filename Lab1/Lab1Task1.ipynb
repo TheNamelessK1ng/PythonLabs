{
 "cells": [
  {
   "cell_type": "markdown",
   "id": "70866afe-3966-47ab-a892-3c7be4d0223e",
   "metadata": {},
   "source": [
    "# **Буркіна Фасо**  \n",
    "_Країна в Західній Африці_\n",
    "\n",
    "## **Загальна інформація**\n",
    "<div style=\"border: 2px solid #000000; padding: 10px; background-color: #f4f4f4;\">\n",
    "  \n",
    "**Площа:** 274,200 км²  \n",
    "**Населення:** 21,510,181 (2021 р.)  \n",
    "**Державний устрій:** Напівпрезидентська республіка  \n",
    "**Офіційна мова:** Французька  \n",
    "</div>\n",
    "\n",
    "## **Пам'ятки культури та природи**\n",
    "### **Культура**\n",
    "- **Традиційна музика** та **танці**\n",
    "- Ремесла та **виробництво тканин**\n",
    "  \n",
    "### **Природні пам'ятки**  \n",
    "1. **Національний парк Арлі**  \n",
    "2. **Заповідник Пама**\n",
    "\n",
    "## **Видатні персоналії**\n",
    "- **Томас Санкара** — <span style=\"color: orange;\">революціонер і політичний лідер</span><br>\n",
    "- **Салліф Кейта** — <span style=\"color: green;\">відомий футболіст</span><br>\n",
    "- **Кіраба Самандо** — <span style=\"color: blue;\">популярний поет та письменник</span>\n",
    "\n",
    "## **Символи Буркіна Фасо**\n",
    "\n",
    "### Державний прапор:"
   ]
  },
  {
   "cell_type": "code",
   "execution_count": 39,
   "id": "5b3f7922-fa59-444b-ba9e-d8ec09ba60a7",
   "metadata": {
    "jupyter": {
     "source_hidden": true
    }
   },
   "outputs": [
    {
     "data": {
      "image/svg+xml": [
       "<svg xmlns=\"http://www.w3.org/2000/svg\" xmlns:xlink=\"http://www.w3.org/1999/xlink\" version=\"1.0\" width=\"900\" height=\"600\">\n",
       "\t<rect width=\"900\" height=\"600\" fill=\"#009e49\"/>\n",
       "\t<rect width=\"900\" height=\"300\" fill=\"#ef2b2d\"/>\n",
       "\t<g transform=\"translate(450,300)\" fill=\"#fcd116\">\n",
       "\t\t<g id=\"c\">\n",
       "\t\t\t<path id=\"t\" d=\"M 0,-100 V 0 H 50\" transform=\"rotate(18 0,-100)\"/>\n",
       "\t\t\t<use xlink:href=\"#t\" transform=\"scale(-1,1)\"/>\n",
       "\t\t</g>\n",
       "\t\t<use xlink:href=\"#c\" transform=\"rotate(72)\"/>\n",
       "\t\t<use xlink:href=\"#c\" transform=\"rotate(144)\"/>\n",
       "\t\t<use xlink:href=\"#c\" transform=\"rotate(216)\"/>\n",
       "\t\t<use xlink:href=\"#c\" transform=\"rotate(288)\"/>\n",
       "\t</g>\n",
       "</svg>"
      ],
      "text/plain": [
       "<IPython.core.display.SVG object>"
      ]
     },
     "metadata": {},
     "output_type": "display_data"
    }
   ],
   "source": [
    "from IPython.display import SVG, display\n",
    "svg_code = '''<svg version=\"1.0\" xmlns=\"http://www.w3.org/2000/svg\" xmlns:xlink=\"http://www.w3.org/1999/xlink\" width=\"900\" height=\"600\">\n",
    "\t<rect width=\"900\" height=\"600\" fill=\"#009e49\"/>\n",
    "\t<rect width=\"900\" height=\"300\" fill=\"#ef2b2d\"/>\n",
    "\t<g transform=\"translate(450,300)\" fill=\"#fcd116\">\n",
    "\t\t<g id=\"c\">\n",
    "\t\t\t<path id=\"t\" d=\"M 0,-100 V 0 H 50\" transform=\"rotate(18 0,-100)\"/>\n",
    "\t\t\t<use xlink:href=\"#t\" transform=\"scale(-1,1)\"/>\n",
    "\t\t</g>\n",
    "\t\t<use xlink:href=\"#c\" transform=\"rotate(72)\"/>\n",
    "\t\t<use xlink:href=\"#c\" transform=\"rotate(144)\"/>\n",
    "\t\t<use xlink:href=\"#c\" transform=\"rotate(216)\"/>\n",
    "\t\t<use xlink:href=\"#c\" transform=\"rotate(288)\"/>\n",
    "\t</g>\n",
    "</svg>'''\n",
    "\n",
    "display(SVG(data=svg_code))"
   ]
  },
  {
   "cell_type": "markdown",
   "id": "7c164da5-e78e-43ec-9700-249dc5f68760",
   "metadata": {},
   "source": [
    "## **Економіка**\n",
    "<div style=\"border: 2px solid #000000; padding: 10px;\">\n",
    "Буркіна Фасо - одна з найбідніших країн світу. Основні галузі економіки:\n",
    "<ul>\n",
    "  <li><b>Сільське господарство</b> - вирощування бавовни, арахісу</li>\n",
    "  <li><b>Гірничодобувна промисловість</b> - видобуток золота</li>\n",
    "</ul>\n",
    "</div>\n",
    "\n",
    "## **Додаткова інформація**\n",
    "\n",
    "### Таблиця основних показників:\n",
    "| Показник               | Значення             |\n",
    "|------------------------|----------------------|\n",
    "| Площа                  | 274,200 км²          |\n",
    "| Населення              | 21,510,181 осіб      |\n",
    "| Валюта                 | Західноафриканський франк (XOF) |\n",
    "| Столиця                | Уагадугу             |\n",
    "\n",
    "### **Важливі ресурси:**\n",
    "- [Детальніше про культуру Буркіна Фасо](https://en.wikipedia.org/wiki/Category:Culture_of_Burkina_Faso)\n",
    "- [Офіційний сайт уряду](https://www.gouvernement.gov.bf/accueil)\n",
    "\n",
    "### **Картинка з посиланням**:\n",
    "[![Природа Буркіна Фасо](https://spb45.sletat.ru/zapovedniki-mira.com_parki.jpg)](https://en.wikipedia.org/wiki/Burkina_Faso)\n",
    "\n",
    "### **Вбудоване зображення:**\n",
    "![Мапа Буркіна Фасо](https://media.istockphoto.com/id/519844935/vector/burkina-faso-political-map.jpg?s=612x612&w=0&k=20&c=Uk4fhYH8nualiw8-oRog4CapJvhzRE-9zhC23-BEu9I=)"
   ]
  },
  {
   "cell_type": "code",
   "execution_count": null,
   "id": "9518ff38-1c90-4714-9113-8d7ccd2b8b44",
   "metadata": {},
   "outputs": [],
   "source": []
  }
 ],
 "metadata": {
  "kernelspec": {
   "display_name": "Python 3 (ipykernel)",
   "language": "python",
   "name": "python3"
  },
  "language_info": {
   "codemirror_mode": {
    "name": "ipython",
    "version": 3
   },
   "file_extension": ".py",
   "mimetype": "text/x-python",
   "name": "python",
   "nbconvert_exporter": "python",
   "pygments_lexer": "ipython3",
   "version": "3.12.4"
  }
 },
 "nbformat": 4,
 "nbformat_minor": 5
}
