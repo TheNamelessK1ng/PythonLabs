{
 "cells": [
  {
   "cell_type": "code",
   "execution_count": null,
   "id": "a7406265-b8f5-46b8-9c4a-cbbdbb37e9bb",
   "metadata": {},
   "outputs": [],
   "source": [
    "def gcd_division(a, b):\n",
    "    while b != 0:\n",
    "        a, b = b, a % b\n",
    "    return a\n",
    "\n",
    "def gcd_subtraction(a, b):\n",
    "    while a != b:\n",
    "        if a > b:\n",
    "            a -= b\n",
    "        else:\n",
    "            b -= a\n",
    "    return a\n",
    "\n",
    "def input_with_validation():\n",
    "    while True:\n",
    "        try:\n",
    "            a = int(input(\"Введіть перше число (позитивне ціле): \"))\n",
    "            b = int(input(\"Введіть друге число (позитивне ціле): \"))\n",
    "            if a <= 0 or b <= 0:\n",
    "                raise ValueError(\"Числа мають бути додатніми!\")\n",
    "            return a, b\n",
    "        except ValueError as e:\n",
    "            print(f\"Помилка: {e}. Спробуйте ще раз.\")\n",
    "\n",
    "def main():\n",
    "    print(\"Обчислення найбільшого спільного дільника (НСД)\")\n",
    "    \n",
    "    a, b = input_with_validation()\n",
    "\n",
    "    print(\"Виберіть метод обчислення НСД:\")\n",
    "    print(\"1 - Метод ділення\")\n",
    "    print(\"2 - Метод віднімання\")\n",
    "\n",
    "    while True:\n",
    "        try:\n",
    "            choice = int(input(\"Ваш вибір (1 або 2): \"))\n",
    "            if choice == 1:\n",
    "                result = gcd_division(a, b)\n",
    "                print(f\"НСД методом ділення: {result}\")\n",
    "                break\n",
    "            elif choice == 2:\n",
    "                result = gcd_subtraction(a, b)\n",
    "                print(f\"НСД методом віднімання: {result}\")\n",
    "                break\n",
    "            else:\n",
    "                raise ValueError(\"Невірний вибір, спробуйте ще раз.\")\n",
    "        except ValueError as e:\n",
    "            print(f\"Помилка: {e}. Спробуйте ще раз.\")\n",
    "\n",
    "if __name__ == \"__main__\":\n",
    "    main()"
   ]
  },
  {
   "cell_type": "code",
   "execution_count": null,
   "id": "5ee56c2f-ce4e-48b9-9432-38a8045effc9",
   "metadata": {},
   "outputs": [],
   "source": []
  }
 ],
 "metadata": {
  "kernelspec": {
   "display_name": "Python 3 (ipykernel)",
   "language": "python",
   "name": "python3"
  },
  "language_info": {
   "codemirror_mode": {
    "name": "ipython",
    "version": 3
   },
   "file_extension": ".py",
   "mimetype": "text/x-python",
   "name": "python",
   "nbconvert_exporter": "python",
   "pygments_lexer": "ipython3",
   "version": "3.12.4"
  }
 },
 "nbformat": 4,
 "nbformat_minor": 5
}
